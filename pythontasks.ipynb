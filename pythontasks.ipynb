{
  "nbformat": 4,
  "nbformat_minor": 0,
  "metadata": {
    "colab": {
      "provenance": []
    },
    "kernelspec": {
      "name": "python3",
      "display_name": "Python 3"
    },
    "language_info": {
      "name": "python"
    }
  },
  "cells": [
    {
      "cell_type": "code",
      "execution_count": null,
      "metadata": {
        "colab": {
          "base_uri": "https://localhost:8080/"
        },
        "id": "dK7N7bUiOrah",
        "outputId": "213432f2-2bff-4f8b-e7a2-e9d308b35f8d"
      },
      "outputs": [
        {
          "output_type": "stream",
          "name": "stdout",
          "text": [
            "Enter first number:10\n",
            "Enter second number:20\n",
            "10 20\n",
            "B is greater.\n"
          ]
        }
      ],
      "source": [
        " # Take two inputs from the user and tell which number is greater.\n",
        "a = int(input(\"Enter first number:\"))\n",
        "b = int(input(\"Enter second number:\"))\n",
        "print(a, b)\n",
        "if a>b:\n",
        "  print(\"A is greater.\")\n",
        "else:\n",
        "  print(\"B is greater.\")"
      ]
    },
    {
      "cell_type": "code",
      "source": [
        "# Find the area and perimeter of a rectangle and find for the same dimension is perimeter greater or area greater.\n",
        "length= int(input(\"Enter the length:\"))\n",
        "breadth= int(input(\"Enter the breadth:\"))\n",
        "print(\"Area of rectangle is:\", length*breadth)\n",
        "print(\"Perimeter of rectangle is:\", 2*(length+breadth))\n",
        "if length*breadth > 2*(length+breadth):\n",
        "  print(\"Area of rectangle is greater.\")\n",
        "else:\n",
        "  print(\"Perimeter of rectangle is greater.\")"
      ],
      "metadata": {
        "colab": {
          "base_uri": "https://localhost:8080/"
        },
        "id": "sA61VZ8SPFvK",
        "outputId": "94fa48d7-ab1a-41c9-b6b7-661ffd6dc2f3"
      },
      "execution_count": null,
      "outputs": [
        {
          "output_type": "stream",
          "name": "stdout",
          "text": [
            "Enter the length:20\n",
            "Enter the breadth:40\n",
            "Area of rectangle is: 800\n",
            "Perimeter of rectangle is: 120\n",
            "Area of rectangle is greater.\n"
          ]
        }
      ]
    },
    {
      "cell_type": "code",
      "source": [
        "# check the number is prime\n",
        "int(input(\"Enter the number:\"))\n",
        "for i in range(2,n):\n",
        "  if(n%i == 0):\n",
        "    print(\"the number is not prime.\")\n",
        "    break\n",
        "else:\n",
        "    print(\"the number is prime.\")\n",
        "\n"
      ],
      "metadata": {
        "colab": {
          "base_uri": "https://localhost:8080/"
        },
        "id": "VVn6owinUahn",
        "outputId": "bd5bfac9-1829-4e35-d922-ee2af2b6d638"
      },
      "execution_count": null,
      "outputs": [
        {
          "output_type": "stream",
          "name": "stdout",
          "text": [
            "Enter the number:23\n",
            "the number is not prime.\n"
          ]
        }
      ]
    },
    {
      "cell_type": "code",
      "source": [
        "# GCD of two numbers(Euclidean Algorithm)\n",
        "a=60\n",
        "b=48\n",
        "while b!=0:\n",
        "  a,b = b, a%b\n",
        "  print(a)\n"
      ],
      "metadata": {
        "id": "z9BVur8_XAvW",
        "colab": {
          "base_uri": "https://localhost:8080/"
        },
        "outputId": "0b64c790-4587-431f-bd74-161c3f348d1a"
      },
      "execution_count": null,
      "outputs": [
        {
          "output_type": "stream",
          "name": "stdout",
          "text": [
            "48\n",
            "12\n"
          ]
        }
      ]
    },
    {
      "cell_type": "code",
      "source": [
        " # Create a variale n. assign it any of the following values. print 1 to n. using for loop.\n",
        " for i in range(1,4):\n",
        "  print(i)"
      ],
      "metadata": {
        "colab": {
          "base_uri": "https://localhost:8080/"
        },
        "id": "gFGVawNUjxg_",
        "outputId": "8154d175-4357-4ae2-f2e5-697fedb4d8b8"
      },
      "execution_count": null,
      "outputs": [
        {
          "output_type": "stream",
          "name": "stdout",
          "text": [
            "1\n",
            "2\n",
            "3\n"
          ]
        }
      ]
    },
    {
      "cell_type": "code",
      "source": [
        "# Print addition of all numbers from 1 to n.\n",
        "n= int(input(\"enter the number:\"))\n",
        "sum= 0\n",
        "for i in range(1,n+1):\n",
        "  sum = sum+i\n",
        "  print(\"sum from 1 to\", n, \"is:\", sum)"
      ],
      "metadata": {
        "colab": {
          "base_uri": "https://localhost:8080/"
        },
        "id": "2_hJ5zMYl_fU",
        "outputId": "af568633-957c-43f2-db53-ebe1b81e963a"
      },
      "execution_count": null,
      "outputs": [
        {
          "output_type": "stream",
          "name": "stdout",
          "text": [
            "enter the number:4\n",
            "sum from 1 to 4 is: 1\n",
            "sum from 1 to 4 is: 3\n",
            "sum from 1 to 4 is: 6\n",
            "sum from 1 to 4 is: 10\n"
          ]
        }
      ]
    },
    {
      "cell_type": "code",
      "source": [
        "# give n as input, print sum of squares of numbers from 1 to n.\n",
        "n=int(input(\"Enter the number:\"))\n",
        "sum= 0\n",
        "for i in range(1,n+1):\n",
        "  sum = sum+(i*i)\n",
        "print(\"the sum is\", sum)"
      ],
      "metadata": {
        "colab": {
          "base_uri": "https://localhost:8080/"
        },
        "id": "H191pKCUwOjQ",
        "outputId": "cfc0aaea-8d23-4276-8b71-9d3426876b78"
      },
      "execution_count": null,
      "outputs": [
        {
          "output_type": "stream",
          "name": "stdout",
          "text": [
            "Enter the number:4\n",
            "the sum is 30\n"
          ]
        }
      ]
    },
    {
      "cell_type": "markdown",
      "source": [
        "**STRING**"
      ],
      "metadata": {
        "id": "FXDzeLLXZyqQ"
      }
    },
    {
      "cell_type": "code",
      "source": [
        "# string\n",
        "print(\"hello\"+\"world\")\n",
        "print(\"ab\"+\"cd\")\n",
        "print(\"4\"+\"8\")\n",
        "print(\"ab\"+\"4\")"
      ],
      "metadata": {
        "id": "t983WVA3wm8D",
        "colab": {
          "base_uri": "https://localhost:8080/"
        },
        "outputId": "158866bc-9677-4e92-aafe-8c6e7b4a096d"
      },
      "execution_count": null,
      "outputs": [
        {
          "output_type": "stream",
          "name": "stdout",
          "text": [
            "helloworld\n",
            "abcd\n",
            "48\n",
            "ab4\n"
          ]
        }
      ]
    },
    {
      "cell_type": "code",
      "source": [
        "#given a string as input. count number of a's in the string\n",
        "n=input(\"Enter the string:\")\n",
        "count= 0\n",
        "for i in n:\n",
        "  if i =='a':\n",
        "    count+=1\n",
        "print(count)\n"
      ],
      "metadata": {
        "colab": {
          "base_uri": "https://localhost:8080/"
        },
        "id": "kGr4WEtTvABq",
        "outputId": "d23399bb-48f5-4672-ffce-cceb55ef3833"
      },
      "execution_count": null,
      "outputs": [
        {
          "output_type": "stream",
          "name": "stdout",
          "text": [
            "Enter the string:abcsakgrewagkj\n",
            "3\n"
          ]
        }
      ]
    },
    {
      "cell_type": "code",
      "source": [
        "n=1\n",
        "for i in range(2,n):\n",
        "  if(n%i == 0):\n",
        "    print(\"the number is even.\")\n",
        "    break\n",
        "else:\n",
        "    print(\"the number is odd.\")\n",
        "\n"
      ],
      "metadata": {
        "id": "obLhpxiWEoqO",
        "colab": {
          "base_uri": "https://localhost:8080/"
        },
        "outputId": "74899b33-f616-4e19-f462-e13e78dc5c92"
      },
      "execution_count": null,
      "outputs": [
        {
          "output_type": "stream",
          "name": "stdout",
          "text": [
            "the number is odd.\n"
          ]
        }
      ]
    },
    {
      "cell_type": "code",
      "source": [
        "x=22\n",
        "y=10\n",
        "z= x%y\n",
        "if(z<=2):\n",
        "  print(x)\n",
        "  print(y)"
      ],
      "metadata": {
        "colab": {
          "base_uri": "https://localhost:8080/"
        },
        "id": "pBHj7q5SFjzv",
        "outputId": "9523fc30-092d-4702-9a42-9944e673f5d4"
      },
      "execution_count": null,
      "outputs": [
        {
          "output_type": "stream",
          "name": "stdout",
          "text": [
            "22\n",
            "10\n"
          ]
        }
      ]
    },
    {
      "cell_type": "code",
      "source": [
        "num= 67;\n",
        "if (num<55):\n",
        "  print(\"D2D3\")\n",
        "if(num>40):\n",
        "  print(\"2D3D\")\n",
        "if(num>35):\n",
        "  print(\"DD22\")"
      ],
      "metadata": {
        "colab": {
          "base_uri": "https://localhost:8080/"
        },
        "id": "NFX9EvSBGiHX",
        "outputId": "9e4d21c3-94a1-4a30-bf63-9ee72f62f51e"
      },
      "execution_count": null,
      "outputs": [
        {
          "output_type": "stream",
          "name": "stdout",
          "text": [
            "2D3D\n",
            "DD22\n"
          ]
        }
      ]
    },
    {
      "cell_type": "code",
      "source": [
        "x=22\n",
        "if(x%2==0):\n",
        "  print(x)\n",
        "elif(x%3==0):\n",
        "  x=x*2\n",
        "  print(x)"
      ],
      "metadata": {
        "colab": {
          "base_uri": "https://localhost:8080/"
        },
        "id": "z0yEdhgnHX3_",
        "outputId": "a924e12f-ed1f-4415-eecf-ebbc9f5d634e"
      },
      "execution_count": null,
      "outputs": [
        {
          "output_type": "stream",
          "name": "stdout",
          "text": [
            "22\n"
          ]
        }
      ]
    },
    {
      "cell_type": "code",
      "source": [
        "x=10\n",
        "y=20\n",
        "if(x>y):\n",
        "  x=x+y\n",
        "  y=y+10\n",
        "x=100\n",
        "print(x)\n",
        "print(y)\n"
      ],
      "metadata": {
        "colab": {
          "base_uri": "https://localhost:8080/"
        },
        "id": "sfCW2twtIGS-",
        "outputId": "a8171701-eea3-40a4-a3b6-176a385a4f92"
      },
      "execution_count": null,
      "outputs": [
        {
          "output_type": "stream",
          "name": "stdout",
          "text": [
            "100\n",
            "20\n"
          ]
        }
      ]
    },
    {
      "cell_type": "code",
      "source": [
        "st=\"apple##\"\n",
        "z=12\n",
        "if(z%5==0):\n",
        "  st=st+\"shake\"\n",
        "else:\n",
        "  st=st+\"juice\"\n",
        "print(st)"
      ],
      "metadata": {
        "colab": {
          "base_uri": "https://localhost:8080/"
        },
        "id": "gdrKnTiQJK03",
        "outputId": "c7bbd466-ed0b-43be-b885-9be10bab3921"
      },
      "execution_count": null,
      "outputs": [
        {
          "output_type": "stream",
          "name": "stdout",
          "text": [
            "apple##juice\n"
          ]
        }
      ]
    },
    {
      "cell_type": "code",
      "source": [
        "n=int(input(\"enter a number:\"))\n",
        "if(n<0):\n",
        "  print(\"down\")\n",
        "else:\n",
        "  print(\"up\")\n"
      ],
      "metadata": {
        "colab": {
          "base_uri": "https://localhost:8080/"
        },
        "id": "zSZCi9JuJs7P",
        "outputId": "b4e59309-7a66-49ce-aea3-4829b69404be"
      },
      "execution_count": null,
      "outputs": [
        {
          "output_type": "stream",
          "name": "stdout",
          "text": [
            "enter a number:-12\n",
            "down\n"
          ]
        }
      ]
    },
    {
      "cell_type": "code",
      "source": [
        "print(\"A\")\n",
        "for i in range(1,3):\n",
        "  print(\"P\")\n",
        "  print(\"Q\")\n",
        "print(\"C\")"
      ],
      "metadata": {
        "colab": {
          "base_uri": "https://localhost:8080/"
        },
        "id": "MYC6YKIMKvmX",
        "outputId": "e1fefbdd-06a7-462f-d3e1-5bb2684b457a"
      },
      "execution_count": null,
      "outputs": [
        {
          "output_type": "stream",
          "name": "stdout",
          "text": [
            "A\n",
            "P\n",
            "Q\n",
            "P\n",
            "Q\n",
            "C\n"
          ]
        }
      ]
    },
    {
      "cell_type": "code",
      "source": [
        "n=int(input(\"enter a number:\"))\n",
        "for i in range(1,n+1):\n",
        "  print(i)\n",
        "\n"
      ],
      "metadata": {
        "colab": {
          "base_uri": "https://localhost:8080/"
        },
        "id": "eueJQ7oaLr7f",
        "outputId": "55efbb6a-7f7f-4a01-eae6-f5964e0912c1"
      },
      "execution_count": null,
      "outputs": [
        {
          "output_type": "stream",
          "name": "stdout",
          "text": [
            "enter a number:6\n",
            "1\n",
            "2\n",
            "3\n",
            "4\n",
            "5\n",
            "6\n"
          ]
        }
      ]
    },
    {
      "cell_type": "code",
      "source": [
        "n=3\n",
        "twice=0\n",
        "for i in range(1,n+1):\n",
        "  twice=i*2\n",
        "print(twice)"
      ],
      "metadata": {
        "colab": {
          "base_uri": "https://localhost:8080/"
        },
        "id": "9WYpc7tgO6CO",
        "outputId": "8bf5183a-8267-4512-8870-32c272fbf4b9"
      },
      "execution_count": null,
      "outputs": [
        {
          "output_type": "stream",
          "name": "stdout",
          "text": [
            "6\n"
          ]
        }
      ]
    },
    {
      "cell_type": "code",
      "source": [
        "n=5\n",
        "sum=0\n",
        "for i in range(1,n+1):\n",
        "  sum=sum+i\n",
        "print(sum)\n"
      ],
      "metadata": {
        "colab": {
          "base_uri": "https://localhost:8080/"
        },
        "id": "Dm-1Y1_PP9t2",
        "outputId": "e119d830-b0db-4217-b8e2-70c8d5c05019"
      },
      "execution_count": null,
      "outputs": [
        {
          "output_type": "stream",
          "name": "stdout",
          "text": [
            "15\n"
          ]
        }
      ]
    },
    {
      "cell_type": "code",
      "source": [
        "n=int(input(\"enter a number:\"))\n",
        "sum=0\n",
        "for i in range(1,n+1):\n",
        " sum+=i*i\n",
        "print(sum)\n"
      ],
      "metadata": {
        "colab": {
          "base_uri": "https://localhost:8080/"
        },
        "id": "jApKm-nhQ3nf",
        "outputId": "7e085604-10e3-4475-8fe1-2ca80b945166"
      },
      "execution_count": null,
      "outputs": [
        {
          "output_type": "stream",
          "name": "stdout",
          "text": [
            "enter a number:4\n",
            "30\n"
          ]
        }
      ]
    },
    {
      "cell_type": "code",
      "source": [
        "z=1\n",
        "m=5\n",
        "for i in range(1,m+1):\n",
        " z=z*i\n",
        " print(z)"
      ],
      "metadata": {
        "colab": {
          "base_uri": "https://localhost:8080/"
        },
        "id": "eYft0gMAUHKW",
        "outputId": "036db6ad-bbbe-4f15-f055-4c81b891d993"
      },
      "execution_count": null,
      "outputs": [
        {
          "output_type": "stream",
          "name": "stdout",
          "text": [
            "1\n",
            "2\n",
            "6\n",
            "24\n",
            "120\n"
          ]
        }
      ]
    },
    {
      "cell_type": "code",
      "source": [
        "n=10\n",
        "pstr=\"\"\n",
        "pstr=\"a\"+\"b\"\n",
        "print(pstr)\n",
        "pstr=\"hello\" + \"world\"\n",
        "print(pstr)\n",
        "pstr=str(n)+str(123)\n",
        "print(pstr)\n",
        "pstr=str(n)+\"b\"\n",
        "print(pstr)\n",
        "pstr=str(1)+\"n\"+str(n)\n",
        "print(pstr)"
      ],
      "metadata": {
        "colab": {
          "base_uri": "https://localhost:8080/"
        },
        "id": "p-PCrLnnaL3W",
        "outputId": "154f9067-e273-44a4-87c4-a718c50768dd"
      },
      "execution_count": null,
      "outputs": [
        {
          "output_type": "stream",
          "name": "stdout",
          "text": [
            "ab\n",
            "helloworld\n",
            "10123\n",
            "10b\n",
            "1n10\n"
          ]
        }
      ]
    },
    {
      "cell_type": "code",
      "source": [
        "num=5\n",
        "st=\"\"\n",
        "pt=\"#\"\n",
        "for i in range(1,num+1):\n",
        "  st=pt+str(i)+pt\n",
        "  print(st)"
      ],
      "metadata": {
        "colab": {
          "base_uri": "https://localhost:8080/"
        },
        "id": "qbbgVo1cbnLO",
        "outputId": "9f3db386-c02e-4c52-bef2-65c78c6a0b84"
      },
      "execution_count": null,
      "outputs": [
        {
          "output_type": "stream",
          "name": "stdout",
          "text": [
            "#1#\n",
            "#2#\n",
            "#3#\n",
            "#4#\n",
            "#5#\n"
          ]
        }
      ]
    },
    {
      "cell_type": "code",
      "source": [
        "n=101\n",
        "qstr=\"\"+str(n)\n",
        "qstr=qstr+\"$\"+str(n)\n",
        "print(qstr)\n",
        "qstr=str(n)+\"$\"+str(n)\n",
        "print(qstr)\n",
        "qstr=\"abc\"\n",
        "print(qstr)\n",
        "qstr=qstr+\"n\"\n",
        "print(qstr)"
      ],
      "metadata": {
        "colab": {
          "base_uri": "https://localhost:8080/"
        },
        "id": "kBrCb-dhcQWW",
        "outputId": "208eb2cb-ea81-44f0-e647-baae2bab1f70"
      },
      "execution_count": null,
      "outputs": [
        {
          "output_type": "stream",
          "name": "stdout",
          "text": [
            "101$101\n",
            "101$101\n",
            "abc\n",
            "abcn\n"
          ]
        }
      ]
    },
    {
      "cell_type": "code",
      "source": [
        "n=4\n",
        "px=\"\"\n",
        "py=\"A\"\n",
        "for i in range(1,n+1):\n",
        "  px=px+py\n",
        "  print(py)"
      ],
      "metadata": {
        "colab": {
          "base_uri": "https://localhost:8080/"
        },
        "id": "mOl6piQDeArd",
        "outputId": "d3ee4dde-39bb-4e77-9dce-a57a3e46ef82"
      },
      "execution_count": null,
      "outputs": [
        {
          "output_type": "stream",
          "name": "stdout",
          "text": [
            "A\n",
            "A\n",
            "A\n",
            "A\n"
          ]
        }
      ]
    },
    {
      "cell_type": "code",
      "source": [
        "z=3\n",
        "m=4\n",
        "st=\"\"\n",
        "qstr=\"T\"\n",
        "for i in range(1,m+1):\n",
        "  if(i< z):\n",
        "    st=st+\"right\"\n",
        "    st = st+qstr\n",
        "print(st)"
      ],
      "metadata": {
        "colab": {
          "base_uri": "https://localhost:8080/"
        },
        "id": "QZeLnnEUhRIP",
        "outputId": "6b66dab5-9b76-4862-eaa4-48ee43a27a27"
      },
      "execution_count": null,
      "outputs": [
        {
          "output_type": "stream",
          "name": "stdout",
          "text": [
            "rightTrightT\n"
          ]
        }
      ]
    },
    {
      "cell_type": "code",
      "source": [
        "#given a string as input. count number of a's in the string.\n",
        "#n=input(\"Enter a string:\")\n",
        "#letter=\"a\"\n",
        "#count=n.count(letter)\n",
        "#print(count)\n",
        "\n",
        "# n=input(\"Enter a string:\")\n",
        "# letter=\"a\"\n",
        "# count=n.count(letter)\n",
        "# print(count)\n",
        "\n",
        "st=input(\"enter any string:\")\n",
        "count=0\n",
        "for i in range(0,len(st)):\n",
        "   if (st[i]==\"a\"):\n",
        "     count = count+1\n",
        "print(count)\n",
        "\n"
      ],
      "metadata": {
        "colab": {
          "base_uri": "https://localhost:8080/"
        },
        "id": "gQXfWWcsOCk6",
        "outputId": "a544f5e6-0c34-4feb-f141-3e4f67e9ab38"
      },
      "execution_count": null,
      "outputs": [
        {
          "output_type": "stream",
          "name": "stdout",
          "text": [
            "enter any string:akshitasharma\n",
            "4\n"
          ]
        }
      ]
    },
    {
      "cell_type": "code",
      "source": [
        "#given a string as input. count number of a's and b's in the string.\n",
        "#n=input(\"Enter a string:\")\n",
        "#letter=\"a\"\n",
        "#count=n.count(letter)\n",
        "#print(count)\n",
        "#letter=\"b\"\n",
        "#count=n.count(letter)\n",
        "#print(count)\n",
        "\n",
        "st=input(\"enter any string:\")\n",
        "count=0\n",
        "for i in range(0,len(st)):\n",
        "   if (st[i]==\"a\"):\n",
        "     count = count+1\n",
        "   if (st[i]==\"b\"):\n",
        "     count = count+1\n",
        "print(count)\n"
      ],
      "metadata": {
        "colab": {
          "base_uri": "https://localhost:8080/"
        },
        "id": "gCZNhKMgPxUy",
        "outputId": "c73fa37d-a78d-4f9f-fb6b-eed33724334d"
      },
      "execution_count": null,
      "outputs": [
        {
          "output_type": "stream",
          "name": "stdout",
          "text": [
            "enter any string:abcabcefghabc\n",
            "6\n"
          ]
        }
      ]
    },
    {
      "cell_type": "code",
      "source": [
        "# given a string as input. print 'number:found' if we encounter '1','2','3' in the string. ex: 1:found or 2:found\n",
        "st=input(\"enter any string:\")\n",
        "for i in range(0,len(st)):\n",
        "   if (st[i]==\"1\"):\n",
        "     print(\"1:found\")\n",
        "   if (st[i]==\"2\"):\n",
        "     print(\"2:found\")\n",
        "   if (st[i]==\"3\"):\n",
        "     print(\"3:found\")"
      ],
      "metadata": {
        "colab": {
          "base_uri": "https://localhost:8080/"
        },
        "id": "WerKsiNPR5BS",
        "outputId": "14a33122-7710-42f8-d6e3-51b85cbbabd8"
      },
      "execution_count": null,
      "outputs": [
        {
          "output_type": "stream",
          "name": "stdout",
          "text": [
            "enter any string:9906083251\n",
            "3:found\n",
            "2:found\n",
            "1:found\n"
          ]
        }
      ]
    },
    {
      "cell_type": "code",
      "source": [
        "# give output of condition given below based on various values following them.\n",
        "#condition:(x>0) and (x>y)\n",
        "x=10\n",
        "y=20\n",
        "print((x>0) and (x>y))"
      ],
      "metadata": {
        "colab": {
          "base_uri": "https://localhost:8080/"
        },
        "id": "zPOcaYQYVSqy",
        "outputId": "33a14e9e-c12b-48ac-dcc6-e7d979dea102"
      },
      "execution_count": null,
      "outputs": [
        {
          "output_type": "stream",
          "name": "stdout",
          "text": [
            "False\n"
          ]
        }
      ]
    },
    {
      "cell_type": "code",
      "source": [
        "#give output of condition given below based on varios values following them:\n",
        "#condition: (x>y) or (z>x)\n",
        "x=13\n",
        "y=15\n",
        "z=17\n",
        "print((x>y) or (z>x))"
      ],
      "metadata": {
        "colab": {
          "base_uri": "https://localhost:8080/"
        },
        "id": "DmRQcNHBfOIZ",
        "outputId": "88e77abe-a80e-4ca8-ee73-0da11c440c4a"
      },
      "execution_count": null,
      "outputs": [
        {
          "output_type": "stream",
          "name": "stdout",
          "text": [
            "True\n"
          ]
        }
      ]
    },
    {
      "cell_type": "code",
      "source": [
        "#type method\n",
        "n=10\n",
        "name=\"akshita\"\n",
        "abc=True\n",
        "print(type(n))\n",
        "print(type(name))\n",
        "print(type(abc))"
      ],
      "metadata": {
        "colab": {
          "base_uri": "https://localhost:8080/"
        },
        "id": "SXFZeIXPfxlR",
        "outputId": "429cd153-c2e2-413f-8996-375e87d1df33"
      },
      "execution_count": null,
      "outputs": [
        {
          "output_type": "stream",
          "name": "stdout",
          "text": [
            "<class 'int'>\n",
            "<class 'str'>\n",
            "<class 'bool'>\n"
          ]
        }
      ]
    },
    {
      "cell_type": "code",
      "source": [
        "#given a string as input. remove all a's from the string.\n",
        "\n",
        "#n=input(\"Enter a string:\")\n",
        "#n=n.replace(\"a\",\"\")\n",
        "#print(n)\n",
        "\n",
        "#n=input(\"Enter a string:\")\n",
        "#n=n.replace(\"a\",\"\")\n",
        "#print(n)\n",
        "\n",
        "st=\"akshita\"\n",
        "resultst=\"\"\n",
        "for i in range(0,len(st)):\n",
        "  ch=st[i]\n",
        "  if (ch!=\"a\"):\n",
        "    resultst=resultst+ch\n",
        "print(resultst)"
      ],
      "metadata": {
        "colab": {
          "base_uri": "https://localhost:8080/"
        },
        "id": "pk75NSBkg_ex",
        "outputId": "6d425df0-afc8-4373-93b3-ccd93813c0c8"
      },
      "execution_count": null,
      "outputs": [
        {
          "output_type": "stream",
          "name": "stdout",
          "text": [
            "kshit\n"
          ]
        }
      ]
    },
    {
      "cell_type": "code",
      "source": [
        "#given a string as input. remove all a's and b's from the string.\n",
        "\n",
        "#n=input(\"Enter a string:\")\n",
        "#n=n.replace(\"a\",\"\")\n",
        "#n=n.replace(\"b\",\"\")\n",
        "#print(n)\n",
        "\n",
        "st=\"abracadabra\"\n",
        "resultst=\"\"\n",
        "for i in range(0,len(st)):\n",
        "  ch=st[i]\n",
        "  if ((ch!=\"a\") and (ch!=\"b\")):\n",
        "    resultst=resultst+ch\n",
        "print(resultst)"
      ],
      "metadata": {
        "colab": {
          "base_uri": "https://localhost:8080/"
        },
        "id": "yBlW5UUghXJZ",
        "outputId": "3ad83eb5-6c48-4ce8-d89e-47d4507e96f4"
      },
      "execution_count": null,
      "outputs": [
        {
          "output_type": "stream",
          "name": "stdout",
          "text": [
            "rcdr\n"
          ]
        }
      ]
    },
    {
      "cell_type": "code",
      "source": [
        "#given a string as input. count uppercase characters in the string.\n",
        "st=\"AkShItA\"\n",
        "count=0\n",
        "for i in range(0,len(st)):\n",
        "  ch=st[i]\n",
        "  if((ch>='A') and (ch<='Z')):\n",
        "   count=count+1\n",
        "print(count)\n"
      ],
      "metadata": {
        "id": "rpFM3QkPjuHx",
        "colab": {
          "base_uri": "https://localhost:8080/"
        },
        "outputId": "d54122d1-6e9d-42e5-89b2-02f068756aaa"
      },
      "execution_count": null,
      "outputs": [
        {
          "output_type": "stream",
          "name": "stdout",
          "text": [
            "4\n"
          ]
        }
      ]
    },
    {
      "cell_type": "code",
      "source": [
        "#given a string as input. create a new string containing only lowercase characters.\n",
        "st=\"AkShItA\"\n",
        "resultst=\"\"\n",
        "for i in range(0,len(st)):\n",
        "  ch=st[i]\n",
        "  if((ch>='a') and (ch<='z')):\n",
        "    resultst=resultst+ch\n",
        "print(resultst)"
      ],
      "metadata": {
        "colab": {
          "base_uri": "https://localhost:8080/"
        },
        "id": "kqh4NUC1rDCa",
        "outputId": "eefccb47-e270-40aa-b603-0abc51b5a177"
      },
      "execution_count": null,
      "outputs": [
        {
          "output_type": "stream",
          "name": "stdout",
          "text": [
            "kht\n"
          ]
        }
      ]
    },
    {
      "cell_type": "code",
      "source": [
        "#given a string as input. create a new string containing characters from input with characters '0' and '5' replaced with character '#'.\n",
        "st=\"012345\"\n",
        "resultst=\"\"\n",
        "for i in range(0,len(st)):\n",
        "  ch=st[i]\n",
        "  if((ch=='0') or (ch=='5')):\n",
        "   resultst=resultst+\"#\"\n",
        "  else:\n",
        "    resultst=resultst+ch\n",
        "print(resultst)"
      ],
      "metadata": {
        "colab": {
          "base_uri": "https://localhost:8080/"
        },
        "id": "DxJl1B_qrrZq",
        "outputId": "bf80f836-5226-48f8-a417-72509a224dd2"
      },
      "execution_count": null,
      "outputs": [
        {
          "output_type": "stream",
          "name": "stdout",
          "text": [
            "#1234#\n"
          ]
        }
      ]
    },
    {
      "cell_type": "code",
      "source": [
        "#given a string as input. remove digits from string.\n",
        "st=\"23bca175\"\n",
        "resultst=\"\"\n",
        "for i in range(0,len(st)):\n",
        "  ch=st[i]\n",
        "  if((ch>='a') and (ch<='z')):\n",
        "    resultst=resultst+ch\n",
        "print(resultst)"
      ],
      "metadata": {
        "colab": {
          "base_uri": "https://localhost:8080/"
        },
        "id": "ji7mz0_Bs3bp",
        "outputId": "11cd3f56-c8cf-41be-acdc-8091098e0021"
      },
      "execution_count": null,
      "outputs": [
        {
          "output_type": "stream",
          "name": "stdout",
          "text": [
            "bca\n"
          ]
        }
      ]
    },
    {
      "cell_type": "code",
      "source": [
        "#given a string as input. create a new string containing double the characters from input string.\n",
        "st=\"akshita\"\n",
        "resultst=\"\"\n",
        "for i in range(0,len(st)):\n",
        "  ch=st[i]\n",
        "  resultst=resultst+ch+ch\n",
        "print(resultst)"
      ],
      "metadata": {
        "id": "cAHO1EDTw8ax",
        "colab": {
          "base_uri": "https://localhost:8080/"
        },
        "outputId": "5ea111fb-7dc0-4ee1-d3ab-c43c9f6c35d8"
      },
      "execution_count": null,
      "outputs": [
        {
          "output_type": "stream",
          "name": "stdout",
          "text": [
            "aakksshhiittaa\n"
          ]
        }
      ]
    },
    {
      "cell_type": "code",
      "source": [
        "# given a string as input. create a new string according to following pattern.\n",
        "st=\"cat\"\n",
        "resultst=\"\"\n",
        "for i in range(0,len(st)):\n",
        "  ch=st[i]\n",
        "  resultst=resultst+ch\n",
        "  print(resultst)"
      ],
      "metadata": {
        "colab": {
          "base_uri": "https://localhost:8080/"
        },
        "id": "SiUbyttWRUQM",
        "outputId": "b9b2161c-849b-4707-da5c-205f65c36420"
      },
      "execution_count": null,
      "outputs": [
        {
          "output_type": "stream",
          "name": "stdout",
          "text": [
            "c\n",
            "ca\n",
            "cat\n"
          ]
        }
      ]
    },
    {
      "cell_type": "code",
      "source": [
        "# given a string as input. reverse it.\n",
        "st=\"akshita\"\n",
        "resultst=\"\"\n",
        "for i in range(0,len(st)):\n",
        "  ch=st[i]\n",
        "  resultst=ch+resultst\n",
        "print(resultst)"
      ],
      "metadata": {
        "colab": {
          "base_uri": "https://localhost:8080/"
        },
        "id": "V5YhTno5S83c",
        "outputId": "6c6a3829-12d8-4dd3-b32b-e0c39ee77c55"
      },
      "execution_count": null,
      "outputs": [
        {
          "output_type": "stream",
          "name": "stdout",
          "text": [
            "atihska\n"
          ]
        }
      ]
    },
    {
      "cell_type": "code",
      "source": [
        "#given a string as input. create a new string containing characters that are present at even position in input string.\n",
        "st=\"akshita\"\n",
        "resultst=\"\"\n",
        "for i in range(0,len(st)):\n",
        "  ch=st[i]\n",
        "  if(i%2==0):\n",
        "    resultst=resultst+ch\n",
        "print(resultst)\n",
        "\n"
      ],
      "metadata": {
        "colab": {
          "base_uri": "https://localhost:8080/"
        },
        "id": "Dh_5-PRoUE-k",
        "outputId": "6c0af842-a1ca-4a83-ea52-2e310de70431"
      },
      "execution_count": null,
      "outputs": [
        {
          "output_type": "stream",
          "name": "stdout",
          "text": [
            "asia\n"
          ]
        }
      ]
    },
    {
      "cell_type": "code",
      "source": [
        "#given a string as input containing uppercase and lowercase characters. create a new string that shifts all uppercase chars in front and lowercase at back.\n",
        "st=\"AkShIta\"\n",
        "uppercase = \"\"\n",
        "lowercase = \"\"\n",
        "for i in range(0,len(st)):\n",
        "  ch=st[i]\n",
        "  if((ch>='A') and (ch<='Z')):\n",
        "    uppercase = uppercase+ch\n",
        "  else:\n",
        "    lowercase = lowercase+ch\n",
        "resultst=uppercase+lowercase\n",
        "print(resultst)"
      ],
      "metadata": {
        "colab": {
          "base_uri": "https://localhost:8080/"
        },
        "id": "X5c_wldgmX6j",
        "outputId": "2d0165f6-7f25-40e4-dee9-e084d460d3bc"
      },
      "execution_count": null,
      "outputs": [
        {
          "output_type": "stream",
          "name": "stdout",
          "text": [
            "ASIkhta\n"
          ]
        }
      ]
    },
    {
      "cell_type": "markdown",
      "source": [],
      "metadata": {
        "id": "DION8TfoxKl4"
      }
    },
    {
      "cell_type": "code",
      "source": [
        "#given a string as input containing ditits, uppercase and lowercase characters. create a new string that shifts all digits in front, lowercase in middle and upercase at the end.\n",
        "st=\"23BcA175\"\n",
        "digit=\"\"\n",
        "uppercase=\"\"\n",
        "lowercase=\"\"\n",
        "for i in range(0,len(st)):\n",
        "  ch=st[i]\n",
        "  if ((ch>='0')and (ch<='9')):\n",
        "    digit=digit+ch\n",
        "  elif((ch>='A')and (ch<='Z')):\n",
        "      lowercase=lowercase+ch\n",
        "  else:\n",
        "      uppercase=uppercase+ch\n",
        "resultst=digit+lowercase+uppercase\n",
        "print(resultst)"
      ],
      "metadata": {
        "colab": {
          "base_uri": "https://localhost:8080/"
        },
        "id": "3t-reO3JoWZs",
        "outputId": "08c3d496-1f1f-4f7d-89f3-920865a16165"
      },
      "execution_count": null,
      "outputs": [
        {
          "output_type": "stream",
          "name": "stdout",
          "text": [
            "23175BAc\n"
          ]
        }
      ]
    },
    {
      "cell_type": "code",
      "source": [
        "st=\"Job ready python\"\n",
        "resultst=\" \"\n",
        "for i in range(0,len(st)):\n",
        " ch=st[i]\n",
        "if (ch==\" \"):\n",
        "  resultst=resultst+ch\n",
        "  print(resultst)\n"
      ],
      "metadata": {
        "id": "XE8ub6oep_Cb"
      },
      "execution_count": null,
      "outputs": []
    },
    {
      "cell_type": "code",
      "source": [
        "name=\"aarti\"\n",
        "print(id(name))"
      ],
      "metadata": {
        "colab": {
          "base_uri": "https://localhost:8080/"
        },
        "id": "9wwjpEQUjFJA",
        "outputId": "d2464954-eb95-459c-9cbd-bc7fd3fd0211"
      },
      "execution_count": null,
      "outputs": [
        {
          "output_type": "stream",
          "name": "stdout",
          "text": [
            "137082097856496\n"
          ]
        }
      ]
    },
    {
      "cell_type": "code",
      "source": [
        "name=\"akshita\"\n",
        "print(id(name))"
      ],
      "metadata": {
        "colab": {
          "base_uri": "https://localhost:8080/"
        },
        "id": "R0KlTkTxj7XA",
        "outputId": "94ab3c34-96f0-42e0-e692-a200e086772f"
      },
      "execution_count": null,
      "outputs": [
        {
          "output_type": "stream",
          "name": "stdout",
          "text": [
            "137081842922160\n"
          ]
        }
      ]
    },
    {
      "cell_type": "markdown",
      "source": [
        "**LIST**"
      ],
      "metadata": {
        "id": "9Jb-kc8qaLip"
      }
    },
    {
      "cell_type": "code",
      "source": [
        "#given a list as input. print sum of all elements.\n",
        "l1=[1,2,3,4]\n",
        "sum=0\n",
        "for i in l1:\n",
        "  sum=sum+i\n",
        "print(sum)"
      ],
      "metadata": {
        "colab": {
          "base_uri": "https://localhost:8080/"
        },
        "id": "pZivSCbQkCN4",
        "outputId": "2e111934-f91c-4542-8ae9-dffa2172b810"
      },
      "execution_count": null,
      "outputs": [
        {
          "output_type": "stream",
          "name": "stdout",
          "text": [
            "10\n"
          ]
        }
      ]
    },
    {
      "cell_type": "code",
      "source": [
        "#given a list as input. print number of elements greater than 10.\n",
        "l=[1,10,12,5,22]\n",
        "count=0\n",
        "for i in l:\n",
        "  if(i>10):\n",
        "    count=count+1\n",
        "print(count)"
      ],
      "metadata": {
        "colab": {
          "base_uri": "https://localhost:8080/"
        },
        "id": "gH68AWwdnySg",
        "outputId": "6db3c5f7-6e93-429e-a993-0d5961e94d9f"
      },
      "execution_count": null,
      "outputs": [
        {
          "output_type": "stream",
          "name": "stdout",
          "text": [
            "2\n"
          ]
        }
      ]
    },
    {
      "cell_type": "code",
      "source": [
        "#given a list as input. print sum of even numbers,\n",
        "l=[1,2,12,5]\n",
        "sum=0\n",
        "for i in l:\n",
        "  if(i%2==0):\n",
        "    sum=sum+i\n",
        "print(sum)\n"
      ],
      "metadata": {
        "colab": {
          "base_uri": "https://localhost:8080/"
        },
        "id": "eOFB3SKAo1aQ",
        "outputId": "3923ae52-a928-43c4-e6bb-b4b2af138141"
      },
      "execution_count": null,
      "outputs": [
        {
          "output_type": "stream",
          "name": "stdout",
          "text": [
            "14\n"
          ]
        }
      ]
    },
    {
      "cell_type": "code",
      "source": [
        "#given a list as input. print sum of even and sum of odd elements.\n",
        "l=[5,10,15,20]\n",
        "evensum=0\n",
        "oddsum=0\n",
        "for i in l:\n",
        "  if(i%2==0):\n",
        "    evensum+=i\n",
        "  else:\n",
        "    oddsum=+i\n",
        "print(\"sum of even number is\",evensum)\n",
        "print(\"sum of odd number is\",oddsum)"
      ],
      "metadata": {
        "colab": {
          "base_uri": "https://localhost:8080/"
        },
        "id": "eP7q47m6tFUQ",
        "outputId": "f541d1f0-9793-44a1-b3b9-829c6deff0cb"
      },
      "execution_count": null,
      "outputs": [
        {
          "output_type": "stream",
          "name": "stdout",
          "text": [
            "sum of even number is 30\n",
            "sum of odd number is 15\n"
          ]
        }
      ]
    },
    {
      "cell_type": "code",
      "source": [
        "#given a list as input. print all even numbers.\n",
        "l=[5,10,15,20,25,30]\n",
        "evennum=0\n",
        "for i in l:\n",
        "  if(i%2==0):\n",
        "   print(i)"
      ],
      "metadata": {
        "colab": {
          "base_uri": "https://localhost:8080/"
        },
        "id": "XNmQlM5jvVgI",
        "outputId": "a0bd50be-10d2-4ac6-feff-f84b4961c8db"
      },
      "execution_count": null,
      "outputs": [
        {
          "output_type": "stream",
          "name": "stdout",
          "text": [
            "10\n",
            "20\n",
            "30\n"
          ]
        }
      ]
    },
    {
      "cell_type": "code",
      "source": [
        "#given a list as input. increment all elements in the given list by 1.\n",
        "l1=[1,2,12,5]\n",
        "lst=0\n",
        "for i in l1:\n",
        "   lst=i+1\n",
        "   print(lst)"
      ],
      "metadata": {
        "colab": {
          "base_uri": "https://localhost:8080/"
        },
        "id": "ax4Bw8L3zVg3",
        "outputId": "6ec3cde9-5d2d-4c2a-b4ee-d0d9ef5319ed"
      },
      "execution_count": null,
      "outputs": [
        {
          "output_type": "stream",
          "name": "stdout",
          "text": [
            "2\n",
            "3\n",
            "13\n",
            "6\n"
          ]
        }
      ]
    },
    {
      "cell_type": "code",
      "source": [
        "#methods in list\n",
        "\n",
        "#append()\n",
        "animals=['dog','cat','cow']\n",
        "animals.append('lion')\n",
        "print(animals)\n",
        "\n",
        "#copy()\n",
        "animals=['dog','cat','cow']\n",
        "animals.copy()\n",
        "print(animals)\n",
        "\n",
        "#insert()\n",
        "animals=['dog','cow','cat']\n",
        "animals.insert(2,'lion')\n",
        "print(animals)\n",
        "\n",
        "#extend()\n",
        "animals=['dog','cat','cow']\n",
        "animals1=['lion','tiger','bull']\n",
        "animals.extend(animals1)\n",
        "print(animals)\n",
        "\n",
        "#clear()\n",
        "animals=['dog','cat','cow']\n",
        "animals.clear()\n",
        "print(animals)\n",
        "\n",
        "#index()\n",
        "animals=['dog','cat','cow']\n",
        "print(animals.index('cow'))\n",
        "\n",
        "#pop()\n",
        "animals=['dog','cat','cow']\n",
        "animals.pop(1)\n",
        "print(animals)\n",
        "\n",
        "#remove()\n",
        "animals=['dog','cat','cow']\n",
        "animals.remove('cow')\n",
        "print(animals)\n",
        "\n",
        "#reverse()\n",
        "animals=['dog','cat','cow']\n",
        "animals.reverse()\n",
        "print(animals)\n",
        "\n",
        "#sort()\n",
        "animals=['dog','cat','cow']\n",
        "animals.sort()\n",
        "print(animals)\n",
        "\n",
        "#count()\n",
        "animals=['dog','cat','cow']\n",
        "print(animals.count('cat'))"
      ],
      "metadata": {
        "colab": {
          "base_uri": "https://localhost:8080/"
        },
        "id": "LONlP4zP4AdH",
        "outputId": "cce36dd7-d590-4a26-9193-832a85bc228c"
      },
      "execution_count": null,
      "outputs": [
        {
          "output_type": "stream",
          "name": "stdout",
          "text": [
            "['dog', 'cat', 'cow', 'lion']\n",
            "['dog', 'cat', 'cow']\n",
            "['dog', 'cow', 'lion', 'cat']\n",
            "['dog', 'cat', 'cow', 'lion', 'tiger', 'bull']\n",
            "[]\n",
            "2\n",
            "['dog', 'cow']\n",
            "['dog', 'cat']\n",
            "['cow', 'cat', 'dog']\n",
            "['cat', 'cow', 'dog']\n",
            "1\n"
          ]
        }
      ]
    },
    {
      "cell_type": "code",
      "source": [
        "# empty list\n",
        "l=[]\n",
        "print(l)"
      ],
      "metadata": {
        "id": "oOiVfm-w7bX_",
        "colab": {
          "base_uri": "https://localhost:8080/"
        },
        "outputId": "9ba73fe6-25c3-4101-c35d-225d2954659e"
      },
      "execution_count": null,
      "outputs": [
        {
          "output_type": "stream",
          "name": "stdout",
          "text": [
            "[]\n"
          ]
        }
      ]
    },
    {
      "cell_type": "code",
      "source": [
        "# 1D list\n",
        "l=[1,2,3,4]\n",
        "print(l)\n",
        "\n",
        "# 2D list\n",
        "l1=[[1,2,3],[4,5,6]]\n",
        "print(l1)\n",
        "\n",
        "# 3D list\n",
        "l2=[[[1,2],[3,4]],[[5,6],[7,8]]]\n",
        "print(l2)"
      ],
      "metadata": {
        "colab": {
          "base_uri": "https://localhost:8080/"
        },
        "id": "QDI_JXZhq_-4",
        "outputId": "9517425b-2f32-4844-a7c2-6eb847615840"
      },
      "execution_count": null,
      "outputs": [
        {
          "output_type": "stream",
          "name": "stdout",
          "text": [
            "[1, 2, 3, 4]\n",
            "[[1, 2, 3], [4, 5, 6]]\n",
            "[[[1, 2], [3, 4]], [[5, 6], [7, 8]]]\n"
          ]
        }
      ]
    },
    {
      "cell_type": "code",
      "source": [
        "#sort()\n",
        "animals=[20,30,10,15,46]\n",
        "animals.sort()\n",
        "print(\"sort list:\")\n",
        "print(animals)\n",
        "\n",
        "\n",
        "\n",
        "# sorted list()\n",
        "animals1=[20,30,10,15,46]\n",
        "print(\"before is:\",id(animals))\n",
        "print(\"Sorted list:\")\n",
        "print(sorted(animals))\n",
        "print(\"after id:\",id(animals1))\n",
        "\n"
      ],
      "metadata": {
        "colab": {
          "base_uri": "https://localhost:8080/"
        },
        "id": "G8SJBtjuvR1O",
        "outputId": "353fc918-d712-47c1-f3b2-cb58d77fdad5"
      },
      "execution_count": null,
      "outputs": [
        {
          "output_type": "stream",
          "name": "stdout",
          "text": [
            "sort list:\n",
            "[10, 15, 20, 30, 46]\n",
            "before is: 140130608042688\n",
            "Sorted list:\n",
            "[10, 15, 20, 30, 46]\n",
            "after id: 140130181464448\n"
          ]
        }
      ]
    },
    {
      "cell_type": "code",
      "source": [
        "# given a list as input. for each element in the given list if it is odd then convert it to the next number.\n",
        "l=[4,5,8,9,12]\n",
        "num=0\n",
        "for i in l:\n",
        "  if(i%2!=0):\n",
        "    num=i+1\n",
        "  else:\n",
        "      num=i\n",
        "  print(num)\n"
      ],
      "metadata": {
        "colab": {
          "base_uri": "https://localhost:8080/"
        },
        "id": "-L4o13CGvzR2",
        "outputId": "f07f9b26-c758-4852-9751-1bac31721a22"
      },
      "execution_count": null,
      "outputs": [
        {
          "output_type": "stream",
          "name": "stdout",
          "text": [
            "4\n",
            "6\n",
            "8\n",
            "10\n",
            "12\n"
          ]
        }
      ]
    },
    {
      "cell_type": "code",
      "source": [
        "# given a list as input. create a new list in which each element is 3 times the original\n",
        "l=[1,3,4,7]\n",
        "l1=[]\n",
        "for i in l:\n",
        "  l1.append(i*3)\n",
        "print(l1)"
      ],
      "metadata": {
        "colab": {
          "base_uri": "https://localhost:8080/"
        },
        "id": "ZKQWZzmTxs03",
        "outputId": "f82f59fe-c654-49b1-b29a-755a581a48ae"
      },
      "execution_count": null,
      "outputs": [
        {
          "output_type": "stream",
          "name": "stdout",
          "text": [
            "[3, 9, 12, 21]\n"
          ]
        }
      ]
    },
    {
      "cell_type": "code",
      "source": [
        "# given a list of size n as input. creat a new list, where first element of original list is not there. assume list of minimum 1 length\n",
        "l=[12,10,3,4,5]\n",
        "l1=[]\n",
        "for i in range(1,len(l)):\n",
        "  if(i!=l[0]):\n",
        "    l1.append(l[i])\n",
        "print(l1)"
      ],
      "metadata": {
        "colab": {
          "base_uri": "https://localhost:8080/"
        },
        "id": "tnuRdHWd0QE2",
        "outputId": "d20adc4a-aef2-4778-881a-5ab57fa8d4bb"
      },
      "execution_count": null,
      "outputs": [
        {
          "output_type": "stream",
          "name": "stdout",
          "text": [
            "[10, 3, 4, 5]\n"
          ]
        }
      ]
    },
    {
      "cell_type": "code",
      "source": [
        "# given a list of size n as input. create a new list, where first element is 0, and rest elements are same as original.\n",
        "l=[5,2,1,17]\n",
        "l1=[]\n",
        "l1.append(0)\n",
        "for i in range(0,len(l)):\n",
        "  if(i!=l[0]):\n",
        "    l1.append(l[i])\n",
        "print(l1)\n"
      ],
      "metadata": {
        "colab": {
          "base_uri": "https://localhost:8080/"
        },
        "id": "4VOa5hzN1evW",
        "outputId": "a512aa8a-3487-411e-c952-124217398476"
      },
      "execution_count": null,
      "outputs": [
        {
          "output_type": "stream",
          "name": "stdout",
          "text": [
            "[0, 5, 2, 1, 17]\n"
          ]
        }
      ]
    },
    {
      "cell_type": "code",
      "source": [
        "#given a list of size n as input. create a new list with double the size of original where elements of first list are repeated one more time\n",
        "l=[4,1,7,9]\n",
        "l1=[]\n",
        "\n",
        "# for i in l:\n",
        "#   l1.append(i)\n",
        "# for i in l:\n",
        "#   l1.append(i)\n",
        "\n",
        "print(l+l)"
      ],
      "metadata": {
        "colab": {
          "base_uri": "https://localhost:8080/"
        },
        "id": "OtPNhYgo3Zxu",
        "outputId": "fffd7516-b38a-42f6-e61f-923dbd43f3ae"
      },
      "execution_count": null,
      "outputs": [
        {
          "output_type": "stream",
          "name": "stdout",
          "text": [
            "[4, 1, 7, 9, 4, 1, 7, 9]\n"
          ]
        }
      ]
    },
    {
      "cell_type": "code",
      "source": [
        "#given a list of size n as input. create a new list with double the size of original where each element is duplicated.\n",
        "l=[1,2,3,4,5]\n",
        "l1=[]\n",
        "for i in l:\n",
        "  l1.append(i)\n",
        "  l1.append(i)\n",
        "print(l1)"
      ],
      "metadata": {
        "colab": {
          "base_uri": "https://localhost:8080/"
        },
        "id": "kmJtUaKwAFtm",
        "outputId": "2bad183b-480d-41a9-a80e-6275d28c5d14"
      },
      "execution_count": null,
      "outputs": [
        {
          "output_type": "stream",
          "name": "stdout",
          "text": [
            "[1, 1, 2, 2, 3, 3, 4, 4, 5, 5]\n"
          ]
        }
      ]
    },
    {
      "cell_type": "code",
      "source": [
        "# given a list as input. print difference of largest and smallest element in list.\n",
        "l=[34,2,43,15]\n",
        "maxele=l[0]\n",
        "minele=l[0]\n",
        "for i in l:\n",
        "  if(i>maxele):\n",
        "    maxele=i\n",
        "  if(i<minele):\n",
        "    minele=i\n",
        "print(\"difference of largest and smallest element is:\",maxele-minele)\n"
      ],
      "metadata": {
        "colab": {
          "base_uri": "https://localhost:8080/"
        },
        "id": "wPDo7NqjC3QO",
        "outputId": "136597ac-5780-413b-a9d1-070584bc6e5a"
      },
      "execution_count": null,
      "outputs": [
        {
          "output_type": "stream",
          "name": "stdout",
          "text": [
            "difference of largest and smallest element is: 41\n"
          ]
        }
      ]
    },
    {
      "cell_type": "code",
      "source": [
        "marks=[70,65,33,94]\n",
        "length=len(marks)\n",
        "print(length)\n",
        "print(marks)\n"
      ],
      "metadata": {
        "colab": {
          "base_uri": "https://localhost:8080/"
        },
        "id": "iXLd-gorEOnP",
        "outputId": "56595295-8c12-4a62-ff41-5911fa75f4a6"
      },
      "execution_count": null,
      "outputs": [
        {
          "output_type": "stream",
          "name": "stdout",
          "text": [
            "4\n",
            "[70, 65, 33, 94]\n"
          ]
        }
      ]
    },
    {
      "cell_type": "code",
      "source": [
        "num=set([2,1,4,5])\n",
        "mylst=[]\n",
        "for z in num:\n",
        "  if(z%2==0):\n",
        "    mylst.append(z)\n",
        "  else:\n",
        "      mylst.append(z+1)\n",
        "      mylst.append(z+2)\n",
        "print(mylst)"
      ],
      "metadata": {
        "colab": {
          "base_uri": "https://localhost:8080/"
        },
        "id": "C64ns9t_FjCd",
        "outputId": "708b7200-3efb-4b37-851f-7d6d8c0d5706"
      },
      "execution_count": null,
      "outputs": [
        {
          "output_type": "stream",
          "name": "stdout",
          "text": [
            "[2, 3, 2, 4, 6, 7]\n"
          ]
        }
      ]
    },
    {
      "cell_type": "code",
      "source": [
        "#given a list of string as input. print number of strings with length >2\n",
        "l1=[\"a\",\"ab\",\"abc\",\"1234\"]\n",
        "count=0\n",
        "for i in l1:\n",
        "  if(len(i)>2):\n",
        "    count=count+1\n",
        "print(count)"
      ],
      "metadata": {
        "colab": {
          "base_uri": "https://localhost:8080/"
        },
        "id": "VzGhuE4yJS51",
        "outputId": "8cbf64a0-8fe6-437d-ffea-9be534692386"
      },
      "execution_count": null,
      "outputs": [
        {
          "output_type": "stream",
          "name": "stdout",
          "text": [
            "2\n"
          ]
        }
      ]
    },
    {
      "cell_type": "code",
      "source": [
        "# input=\"aarti@gmail.com\"  \"ajay@gmail.com\"  output=\"aarti\" \"ajay\"\n",
        "#st=\"aarti@gmail.com\"\n",
        "#st1=\"ajay@gmail.com\"\n",
        "#resultst=\"\"\n",
        "#resultst1=\"\"\n",
        "#for i in range(0,5):\n",
        " #if(st[i]!=\"@\"):\n",
        " # resultst=resultst+st[i]\n",
        "#print(resultst)\n",
        "#for i in range(0,4):\n",
        "# if(st1[i]!=\"@\"):\n",
        " # resultst1=resultst1+st1[i]\n",
        "#print(resultst1)\n",
        "st=\"aarti@gmail.com\"\n",
        "st.find(\"@\")\n",
        "print(st[0:st.find(\"@\")])\n",
        "st1=\"ajay@gmail.com\"\n",
        "st1.find(\"@\")\n",
        "print(st1[0:st1.find(\"@\")])"
      ],
      "metadata": {
        "id": "AbYsC6LTK-E1",
        "colab": {
          "base_uri": "https://localhost:8080/"
        },
        "outputId": "dfa70f26-b324-47ae-844e-ae6195eac61c"
      },
      "execution_count": null,
      "outputs": [
        {
          "output_type": "stream",
          "name": "stdout",
          "text": [
            "aarti\n",
            "ajay\n"
          ]
        }
      ]
    },
    {
      "cell_type": "markdown",
      "source": [
        "**TUPLE**\n"
      ],
      "metadata": {
        "id": "KjYKM0LGWEnR"
      }
    },
    {
      "cell_type": "code",
      "source": [
        "#create a tuple\n",
        "t1=()\n",
        "print(type(t1))\n",
        "t2=(2,4,6,8,\"akshita\")\n",
        "print(t2)\n",
        "print(len(t2))\n",
        "# indexing\n",
        "print(t2[3])\n",
        "#slicing\n",
        "print(t2[1:3])\n",
        "\n",
        "#editing a tuple\n",
        "t2[2]=60\n",
        "print(t2)"
      ],
      "metadata": {
        "colab": {
          "base_uri": "https://localhost:8080/",
          "height": 280
        },
        "id": "JWGmIVYRWG5h",
        "outputId": "96cfe47b-1a0c-42a2-dc27-f9ebdfdb7e76"
      },
      "execution_count": null,
      "outputs": [
        {
          "output_type": "stream",
          "name": "stdout",
          "text": [
            "<class 'tuple'>\n",
            "(2, 4, 6, 8, 'akshita')\n",
            "5\n",
            "8\n",
            "(4, 6)\n"
          ]
        },
        {
          "output_type": "error",
          "ename": "TypeError",
          "evalue": "'tuple' object does not support item assignment",
          "traceback": [
            "\u001b[0;31m---------------------------------------------------------------------------\u001b[0m",
            "\u001b[0;31mTypeError\u001b[0m                                 Traceback (most recent call last)",
            "\u001b[0;32m/tmp/ipython-input-24-2235991147.py\u001b[0m in \u001b[0;36m<cell line: 0>\u001b[0;34m()\u001b[0m\n\u001b[1;32m     11\u001b[0m \u001b[0;34m\u001b[0m\u001b[0m\n\u001b[1;32m     12\u001b[0m \u001b[0;31m#editing a tuple\u001b[0m\u001b[0;34m\u001b[0m\u001b[0;34m\u001b[0m\u001b[0m\n\u001b[0;32m---> 13\u001b[0;31m \u001b[0mt2\u001b[0m\u001b[0;34m[\u001b[0m\u001b[0;36m2\u001b[0m\u001b[0;34m]\u001b[0m\u001b[0;34m=\u001b[0m\u001b[0;36m60\u001b[0m\u001b[0;34m\u001b[0m\u001b[0;34m\u001b[0m\u001b[0m\n\u001b[0m\u001b[1;32m     14\u001b[0m \u001b[0mprint\u001b[0m\u001b[0;34m(\u001b[0m\u001b[0mt2\u001b[0m\u001b[0;34m)\u001b[0m\u001b[0;34m\u001b[0m\u001b[0;34m\u001b[0m\u001b[0m\n",
            "\u001b[0;31mTypeError\u001b[0m: 'tuple' object does not support item assignment"
          ]
        }
      ]
    },
    {
      "cell_type": "code",
      "source": [
        "#loops\n",
        "for ele in t2:\n",
        "  print(ele)\n",
        "\n",
        "#memembership operator-in,not in\n",
        "print(5 in t2)\n",
        "print(6 in t2)"
      ],
      "metadata": {
        "colab": {
          "base_uri": "https://localhost:8080/"
        },
        "id": "Mw2qFGWPXQzS",
        "outputId": "8c8fa614-17f3-4e1f-cf60-4d2f3e2f31c7"
      },
      "execution_count": null,
      "outputs": [
        {
          "output_type": "stream",
          "name": "stdout",
          "text": [
            "2\n",
            "4\n",
            "6\n",
            "8\n",
            "akshita\n",
            "False\n",
            "True\n"
          ]
        }
      ]
    },
    {
      "cell_type": "markdown",
      "source": [
        "**SET**"
      ],
      "metadata": {
        "id": "Bbsty845aU4g"
      }
    },
    {
      "cell_type": "code",
      "source": [
        "# create a set\n",
        "set_name=set()\n",
        "print(type(set_name))\n",
        "\n",
        "#length of set\n",
        "set1={2,4,6,8}\n",
        "print(len(set1))\n",
        "\n",
        "#indexing\n",
        "print(set1[1])\n",
        "\n",
        "#slicing\n",
        "print(set1[1:3])"
      ],
      "metadata": {
        "colab": {
          "base_uri": "https://localhost:8080/",
          "height": 245
        },
        "id": "NR4nnKEBaWhR",
        "outputId": "32024d0e-7b6b-4468-c469-f426a0c61dc6"
      },
      "execution_count": null,
      "outputs": [
        {
          "output_type": "stream",
          "name": "stdout",
          "text": [
            "<class 'set'>\n",
            "4\n"
          ]
        },
        {
          "output_type": "error",
          "ename": "TypeError",
          "evalue": "'set' object is not subscriptable",
          "traceback": [
            "\u001b[0;31m---------------------------------------------------------------------------\u001b[0m",
            "\u001b[0;31mTypeError\u001b[0m                                 Traceback (most recent call last)",
            "\u001b[0;32m/tmp/ipython-input-37-529704008.py\u001b[0m in \u001b[0;36m<cell line: 0>\u001b[0;34m()\u001b[0m\n\u001b[1;32m      8\u001b[0m \u001b[0;34m\u001b[0m\u001b[0m\n\u001b[1;32m      9\u001b[0m \u001b[0;31m#indexing\u001b[0m\u001b[0;34m\u001b[0m\u001b[0;34m\u001b[0m\u001b[0m\n\u001b[0;32m---> 10\u001b[0;31m \u001b[0mprint\u001b[0m\u001b[0;34m(\u001b[0m\u001b[0mset1\u001b[0m\u001b[0;34m[\u001b[0m\u001b[0;36m1\u001b[0m\u001b[0;34m]\u001b[0m\u001b[0;34m)\u001b[0m\u001b[0;34m\u001b[0m\u001b[0;34m\u001b[0m\u001b[0m\n\u001b[0m\u001b[1;32m     11\u001b[0m \u001b[0;34m\u001b[0m\u001b[0m\n\u001b[1;32m     12\u001b[0m \u001b[0;31m#slicing\u001b[0m\u001b[0;34m\u001b[0m\u001b[0;34m\u001b[0m\u001b[0m\n",
            "\u001b[0;31mTypeError\u001b[0m: 'set' object is not subscriptable"
          ]
        }
      ]
    },
    {
      "cell_type": "code",
      "source": [
        "# basic methods: add() and len()\n",
        "# example 2.1 using simple method\n",
        "studentset=set()\n",
        "\n",
        "studentset.add(\"rohit\") #adding element to our set\n",
        "studentset.add(\"manish\")\n",
        "\n",
        "length= len(studentset)  #getting current size of our set\n",
        "print(length)\n",
        "\n",
        "studentset.add(\"manish\")\n",
        "length=len(studentset)\n",
        "print(length)\n",
        "print(studentset) #printing set"
      ],
      "metadata": {
        "colab": {
          "base_uri": "https://localhost:8080/"
        },
        "id": "0DB2k2Kldvoo",
        "outputId": "8ce04f83-22b1-4b9e-f910-0f8b2e9a9a56"
      },
      "execution_count": null,
      "outputs": [
        {
          "output_type": "stream",
          "name": "stdout",
          "text": [
            "2\n",
            "2\n",
            "{'manish', 'rohit'}\n"
          ]
        }
      ]
    },
    {
      "cell_type": "code",
      "source": [
        "mylist=[2,1,2,4,3,3,4,5]\n",
        "myset=set()\n",
        "length=len(mylist)\n",
        "for i in range(0,length):\n",
        " n=mylist[i]\n",
        " myset.add(n)\n",
        "length=len(myset)\n",
        "print(length)\n",
        "print(myset)"
      ],
      "metadata": {
        "colab": {
          "base_uri": "https://localhost:8080/"
        },
        "id": "9M8PLl0heqAP",
        "outputId": "528c354a-2fde-4fa6-f82c-7597ea1a8a7d"
      },
      "execution_count": null,
      "outputs": [
        {
          "output_type": "stream",
          "name": "stdout",
          "text": [
            "5\n",
            "{1, 2, 3, 4, 5}\n"
          ]
        }
      ]
    },
    {
      "cell_type": "code",
      "source": [
        "gatepassSwipe=set()\n",
        "gatepassSwipe.add(\"surbhi\")\n",
        "gatepassSwipe.add(\"rohan\")\n",
        "gatepassSwipe.add(\"sakshi\")\n",
        "gatepassSwipe.add(\"rohit\")\n",
        "gatepassSwipe.add(\"sakshi sharma\")\n",
        "gatepassSwipe.add(\"rohan\")\n",
        "gatepassSwipe.add(\"tushar\")\n",
        "\n",
        "length=len(gatepassSwipe)\n",
        "print(\"Unique:\"+ str(length))\n",
        "print(gatepassSwipe)"
      ],
      "metadata": {
        "colab": {
          "base_uri": "https://localhost:8080/"
        },
        "id": "o_JP8JHjfvnu",
        "outputId": "ba6bfdba-7959-455c-bc7c-b5135f999c80"
      },
      "execution_count": null,
      "outputs": [
        {
          "output_type": "stream",
          "name": "stdout",
          "text": [
            "Unique:6\n",
            "{'rohit', 'rohan', 'sakshi', 'tushar', 'surbhi', 'sakshi sharma'}\n"
          ]
        }
      ]
    },
    {
      "cell_type": "code",
      "source": [
        "# assume a set conatins:\n",
        "myset=['c','o,','l','a']\n",
        "zstr=\"chocolate\"\n",
        "newstr=\"\"\n",
        "for i in range(0,len(zstr)):\n",
        "  ch=zstr[i]\n",
        "  if(ch in myset):\n",
        "    newstr=newstr+ch\n",
        "  else:\n",
        "    newstr=newstr+\"#\"\n",
        "print(newstr)"
      ],
      "metadata": {
        "colab": {
          "base_uri": "https://localhost:8080/"
        },
        "id": "Cs2vF89fh954",
        "outputId": "fecdbfc9-edee-43e9-bd96-82b7238e6c18"
      },
      "execution_count": null,
      "outputs": [
        {
          "output_type": "stream",
          "name": "stdout",
          "text": [
            "c##c#la##\n"
          ]
        }
      ]
    },
    {
      "cell_type": "code",
      "source": [
        "zstr=\"abracadabra\"\n",
        "myset=set()\n",
        "for i in range(0,len(zstr)):\n",
        "  ch=zstr[i]\n",
        "  if ch in myset:\n",
        "    print(\"$:\"+ ch)\n",
        "  myset.add(ch)\n",
        "print(myset)"
      ],
      "metadata": {
        "colab": {
          "base_uri": "https://localhost:8080/"
        },
        "id": "rpJHF3XLjsft",
        "outputId": "26afc13c-faf4-49da-9666-7f898b844355"
      },
      "execution_count": null,
      "outputs": [
        {
          "output_type": "stream",
          "name": "stdout",
          "text": [
            "$:a\n",
            "$:a\n",
            "$:a\n",
            "$:b\n",
            "$:r\n",
            "$:a\n",
            "{'r', 'b', 'a', 'd', 'c'}\n"
          ]
        }
      ]
    },
    {
      "cell_type": "markdown",
      "source": [
        "**DICTIONARY**"
      ],
      "metadata": {
        "id": "SnngWZPHrW9N"
      }
    },
    {
      "cell_type": "code",
      "source": [
        "d1={} #key:value\n",
        "print(type(d1))\n",
        "# list cannot be listed as a KEY\n",
        "# key must always be unique. keys are treated as index number in dictionary.\n",
        "d2={1:\"akshita\",2:\"aarti\",3:\"divya\"}\n",
        "print(d2)"
      ],
      "metadata": {
        "colab": {
          "base_uri": "https://localhost:8080/"
        },
        "id": "Qi_UabnZreG8",
        "outputId": "087f6ad8-ab3f-4ae4-b7ed-407164246889"
      },
      "execution_count": null,
      "outputs": [
        {
          "output_type": "stream",
          "name": "stdout",
          "text": [
            "<class 'dict'>\n",
            "{1: 'akshita', 2: 'aarti', 3: 'divya'}\n"
          ]
        }
      ]
    },
    {
      "cell_type": "code",
      "source": [
        "# acessing an element in dictionary\n",
        "d2={1:\"akshita\",2:\"aarti\",3:\"divya\"}\n",
        "print(d2)\n",
        "print(d2[2])\n",
        "\n",
        "for ele in d2:\n",
        "  print(ele)"
      ],
      "metadata": {
        "colab": {
          "base_uri": "https://localhost:8080/"
        },
        "id": "ak-jFzTQrih9",
        "outputId": "3e011b4a-904f-4498-aa91-12acabddd5e6"
      },
      "execution_count": null,
      "outputs": [
        {
          "output_type": "stream",
          "name": "stdout",
          "text": [
            "{1: 'akshita', 2: 'aarti', 3: 'divya'}\n",
            "aarti\n",
            "1\n",
            "2\n",
            "3\n"
          ]
        }
      ]
    },
    {
      "cell_type": "code",
      "source": [
        "# using simple methods\n",
        "pdict= dict()\n",
        "pdict[\"9999999911\"]=\"mohit\"\n",
        "pdict[\"9999999915\"]=\"akash\"\n",
        "length=len(pdict)\n",
        "print(length)\n",
        "print(pdict)\n",
        "\n",
        "pdict[\"9999999911\"]=\"tushar\"\n",
        "length=len(pdict)\n",
        "print(length)\n",
        "print(pdict)"
      ],
      "metadata": {
        "colab": {
          "base_uri": "https://localhost:8080/"
        },
        "id": "9c4CUes0rjSE",
        "outputId": "5f01bf3b-2f94-4027-b4cb-5a76620ac110"
      },
      "execution_count": null,
      "outputs": [
        {
          "output_type": "stream",
          "name": "stdout",
          "text": [
            "2\n",
            "{'9999999911': 'mohit', '9999999915': 'akash'}\n",
            "2\n",
            "{'9999999911': 'tushar', '9999999915': 'akash'}\n"
          ]
        }
      ]
    },
    {
      "cell_type": "code",
      "source": [
        "\n",
        "stlist=[\"ab\",\"ba\",\"ab\",\"aba\",\"ba\"]\n",
        "mymap=dict()\n",
        "for i in range(0,len(stlist)):\n",
        "  zstr=stlist[i]\n",
        "  if (zstr in mymap):\n",
        "    count=mymap[zstr]\n",
        "    count=count+1\n",
        "    mymap[zstr]= count\n",
        "  else:\n",
        "    mymap[zstr]=1\n",
        "    length=len(mymap)\n",
        "print(length)\n",
        "print(mymap)"
      ],
      "metadata": {
        "colab": {
          "base_uri": "https://localhost:8080/"
        },
        "id": "qM3aHFA4wdOq",
        "outputId": "dd6d2e94-8f36-47c5-f840-837a12499d53"
      },
      "execution_count": null,
      "outputs": [
        {
          "output_type": "stream",
          "name": "stdout",
          "text": [
            "3\n",
            "{'ab': 2, 'ba': 2, 'aba': 1}\n"
          ]
        }
      ]
    },
    {
      "cell_type": "code",
      "source": [
        "# assignment\n",
        "# given an integer list as input. create a list of all the numbers which have last digit 5 in them. print the new list as well as its size\n",
        "lst=[10,15,20,25,30,25,40]\n",
        "newlst=[]\n",
        "for i in range(0,len(lst)):\n",
        "  if lst[i]%10==5:\n",
        "    newlst.append(lst[i])\n",
        "    size=len(newlst)\n",
        "print(\"size:\",size)\n",
        "print(newlst)"
      ],
      "metadata": {
        "id": "t4zQOaDFyqRK",
        "colab": {
          "base_uri": "https://localhost:8080/"
        },
        "outputId": "a32b3c67-e9e4-4683-ecb1-79ff9e3a62b8"
      },
      "execution_count": null,
      "outputs": [
        {
          "output_type": "stream",
          "name": "stdout",
          "text": [
            "size: 3\n",
            "[15, 25, 25]\n"
          ]
        }
      ]
    },
    {
      "cell_type": "code",
      "source": [
        "# given a list of string as input, set to print all the unique chars in the list. the output can be printed in any order.\n",
        "lst=[\"hello\",\"how\",\"are\",\"you!!\"]\n",
        "newlst=\"\"\n",
        "for i in range(0,len(lst)):\n",
        "  for j in range(0,len(lst[i])):\n",
        "    ch=lst[i][j]\n",
        "    if ch not in newlst:\n",
        "      newlst=newlst+ch\n",
        "print(newlst)\n"
      ],
      "metadata": {
        "colab": {
          "base_uri": "https://localhost:8080/"
        },
        "id": "f8SL2KE_Ux4o",
        "outputId": "5977d0b8-1659-462c-9898-ed3295adade9"
      },
      "execution_count": null,
      "outputs": [
        {
          "output_type": "stream",
          "name": "stdout",
          "text": [
            "helowaryu!\n"
          ]
        }
      ]
    },
    {
      "cell_type": "code",
      "source": [
        "# given an array of string as input,create a string consisting of the first character of each string in the array\n",
        "lst=[\"Trisect\",\"Java\",\"Master\"]\n",
        "newst=\"\"\n",
        "for i in range(0,len(lst)):\n",
        "  newst=newst+lst[i][0]\n",
        "print(newst)\n"
      ],
      "metadata": {
        "colab": {
          "base_uri": "https://localhost:8080/"
        },
        "id": "l5k698TuV90v",
        "outputId": "19de7459-8874-4e55-f05e-f9924a7bed2b"
      },
      "execution_count": null,
      "outputs": [
        {
          "output_type": "stream",
          "name": "stdout",
          "text": [
            "TJM\n"
          ]
        }
      ]
    },
    {
      "cell_type": "code",
      "source": [
        "# given a string as input, change the case of all the alphabets in the string.\n",
        "st=\"trisect\"\n",
        "newst=\"\"\n",
        "for i in range(0,len(st)):\n",
        "  ch=st[i]\n",
        "  if(ch.isupper()):\n",
        "    newst=newst+ch.lower()\n",
        "  else:\n",
        "    newst=newst+ch.upper()\n",
        "print(newst)"
      ],
      "metadata": {
        "colab": {
          "base_uri": "https://localhost:8080/"
        },
        "id": "niyknn63cxwe",
        "outputId": "116d32c5-924f-4330-cf8a-30b24f4713cd"
      },
      "execution_count": null,
      "outputs": [
        {
          "output_type": "stream",
          "name": "stdout",
          "text": [
            "TRISECT\n"
          ]
        }
      ]
    },
    {
      "cell_type": "code",
      "source": [
        "lst1=[1,3,5]\n",
        "lst2=[2,4]\n",
        "lst3=[]\n",
        "len1=len(lst1)\n",
        "len2=len(lst2)\n",
        "max_len=max(len1,len2)\n",
        "for i in range(max_len):\n",
        "  if i<len1:\n",
        "    merge.append(lst1[i])\n",
        "  if i<len2:\n",
        "    merge.append(lst2[i])\n",
        "print(merge)\n"
      ],
      "metadata": {
        "colab": {
          "base_uri": "https://localhost:8080/"
        },
        "id": "LYcYTRWtcoWe",
        "outputId": "47a2a6c6-2a7b-4501-c4c3-7f2ff9268835"
      },
      "execution_count": null,
      "outputs": [
        {
          "output_type": "stream",
          "name": "stdout",
          "text": [
            "[1, 2, 3, 4, 5]\n"
          ]
        }
      ]
    },
    {
      "cell_type": "markdown",
      "source": [
        "# New Section"
      ],
      "metadata": {
        "id": "s2eobhw9Zixq"
      }
    },
    {
      "cell_type": "code",
      "source": [
        "st=\"hello#2$$BD\"\n",
        "speacialch=0\n",
        "for i in st:\n",
        "  if(i.isalpha()):\n",
        "    continue\n",
        "  elif(i.isdigit()):\n",
        "    continue\n",
        "  else:\n",
        "    speacialch=speacialch+1\n",
        "print(speacialch)"
      ],
      "metadata": {
        "colab": {
          "base_uri": "https://localhost:8080/"
        },
        "id": "sXC1l5t9jYRj",
        "outputId": "b0d2c5ff-ab54-4e8e-a6c2-b3d5d6f43dd8"
      },
      "execution_count": null,
      "outputs": [
        {
          "output_type": "stream",
          "name": "stdout",
          "text": [
            "3\n"
          ]
        }
      ]
    },
    {
      "cell_type": "code",
      "source": [
        "# given a list of numbers of input. find the most frequently occuring number in the list using dictionary. if more than 1 number has the highest frequency. print allthe numbers\n",
        "st=[\"10\",\"20\",\"30\",\"20\",\"40\",\"50\"]\n",
        "d1=dict()\n",
        "for i in range(0,len(st)):\n",
        "  if st[i] in d1:\n",
        "    count=d1[st[i]]\n",
        "    count=count+1\n",
        "    d1[st[i]]=count\n",
        "  else:\n",
        "    d1[st[i]]=1\n",
        "print(d1)"
      ],
      "metadata": {
        "id": "zAnYlDidneKq",
        "colab": {
          "base_uri": "https://localhost:8080/"
        },
        "outputId": "4523f74f-95df-4a1e-9858-dd18b2b861db"
      },
      "execution_count": null,
      "outputs": [
        {
          "output_type": "stream",
          "name": "stdout",
          "text": [
            "{'10': 1, '20': 2, '30': 1, '40': 1, '50': 1}\n"
          ]
        }
      ]
    },
    {
      "cell_type": "code",
      "source": [
        "n=\"naman\"\n",
        "st=\"\"\n",
        "for i in n:\n",
        "  st=n+st\n",
        "  if n==st:\n",
        "    print(\"the string is palindrome.\")\n",
        "  else:\n",
        "    print(\"the string is not palindrome.\")"
      ],
      "metadata": {
        "id": "icHPexgxo2_C",
        "colab": {
          "base_uri": "https://localhost:8080/"
        },
        "outputId": "a6d70954-95c2-4851-b6da-771ed3afd2de"
      },
      "execution_count": null,
      "outputs": [
        {
          "output_type": "stream",
          "name": "stdout",
          "text": [
            "the string is palindrome.\n",
            "the string is not palindrome.\n",
            "the string is not palindrome.\n",
            "the string is not palindrome.\n",
            "the string is not palindrome.\n"
          ]
        }
      ]
    },
    {
      "cell_type": "code",
      "source": [
        " # print pattern\n",
        "n=2\n",
        "st=\"\"\n",
        "for i in range(1,n+1):\n",
        "  print(\"*\")\n",
        "  for j in range(1,n+1):\n",
        "     print(\"*\")\n"
      ],
      "metadata": {
        "colab": {
          "base_uri": "https://localhost:8080/"
        },
        "id": "QUZAxgjiZMux",
        "outputId": "14bb5140-ab6a-4708-e83e-47e646badd87"
      },
      "execution_count": null,
      "outputs": [
        {
          "output_type": "stream",
          "name": "stdout",
          "text": [
            "*\n",
            "*\n",
            "*\n",
            "*\n",
            "*\n",
            "*\n"
          ]
        }
      ]
    },
    {
      "cell_type": "code",
      "source": [
        "st=\"*\"\n",
        "resultst=\"\"\n",
        "for i in range(0,len(st)):\n",
        "  ch=st[i]\n",
        "  resultst=resultst+ch\n",
        "  print(resultst)"
      ],
      "metadata": {
        "colab": {
          "base_uri": "https://localhost:8080/"
        },
        "id": "KV_8SIFidYVI",
        "outputId": "1f7b1c03-3fb9-4163-e814-50098c3ab513"
      },
      "execution_count": null,
      "outputs": [
        {
          "output_type": "stream",
          "name": "stdout",
          "text": [
            "*\n"
          ]
        }
      ]
    },
    {
      "cell_type": "code",
      "source": [
        "def split_space_with_hyphen(s):\n",
        "\n",
        "  return s\n",
        " s.split(\" \")"
      ],
      "metadata": {
        "id": "pD9EQrjKffRA"
      },
      "execution_count": null,
      "outputs": []
    },
    {
      "cell_type": "code",
      "source": [
        "\n",
        "s=\"this is a string\"\n",
        "s1=s.split(\" \")\n",
        "# split_space_with_hyphen(s)\n",
        "s1"
      ],
      "metadata": {
        "colab": {
          "base_uri": "https://localhost:8080/"
        },
        "id": "SgBMoMGB55cS",
        "outputId": "097c5e6d-615a-4187-a70c-04d882a473f9"
      },
      "execution_count": null,
      "outputs": [
        {
          "output_type": "execute_result",
          "data": {
            "text/plain": [
              "['this', 'is', 'a', 'string']"
            ]
          },
          "metadata": {},
          "execution_count": 8
        }
      ]
    },
    {
      "cell_type": "code",
      "source": [
        "\"-\".join(s1)"
      ],
      "metadata": {
        "colab": {
          "base_uri": "https://localhost:8080/",
          "height": 35
        },
        "id": "yvnmapiy6Ou5",
        "outputId": "56622a4b-9746-4372-c5d6-66e380d0d63e"
      },
      "execution_count": null,
      "outputs": [
        {
          "output_type": "execute_result",
          "data": {
            "text/plain": [
              "'this-is-a-string'"
            ],
            "application/vnd.google.colaboratory.intrinsic+json": {
              "type": "string"
            }
          },
          "metadata": {},
          "execution_count": 9
        }
      ]
    },
    {
      "cell_type": "code",
      "source": [
        "for i in s:\n",
        "  if i==\" \"\n"
      ],
      "metadata": {
        "id": "OMb_bHQS6n9A"
      },
      "execution_count": null,
      "outputs": []
    },
    {
      "cell_type": "code",
      "source": [
        "#You are given a string. Split the string on a \" \" (space) delimiter and join using a - hyphen.\n",
        "s=\"this is a string\"\n",
        "result=\"\"\n",
        "for i in s:\n",
        "  if i ==\" \":\n",
        "    result += \"-\"\n",
        "  else:\n",
        "    result += i\n",
        "print(result)"
      ],
      "metadata": {
        "colab": {
          "base_uri": "https://localhost:8080/"
        },
        "id": "cVW6CurT76ci",
        "outputId": "a7e18376-981b-49f2-f903-8859e970f3c7"
      },
      "execution_count": null,
      "outputs": [
        {
          "output_type": "stream",
          "name": "stdout",
          "text": [
            "this-is-a-string\n"
          ]
        }
      ]
    },
    {
      "cell_type": "code",
      "source": [
        "lst=[\"Trisect\",\"Java\",\"Master\"]\n",
        "newst=\"\"\n",
        "for i in range(0,len(lst)):\n",
        "  newst=newst+lst[i][0]\n",
        "print(newst)\n"
      ],
      "metadata": {
        "colab": {
          "base_uri": "https://localhost:8080/"
        },
        "id": "8G_oCXJa5MfP",
        "outputId": "b6f27ba8-0aaa-4463-d6ab-7618cc9452af"
      },
      "execution_count": null,
      "outputs": [
        {
          "output_type": "stream",
          "name": "stdout",
          "text": [
            "TJM\n"
          ]
        }
      ]
    },
    {
      "cell_type": "code",
      "source": [
        "# GIVEN A STRING AS INPUT. PRINT PATTERNS ACCORDING TO THE FOLLOWING SET OF TEST CASES.\n",
        "#\"JAVA\"\n",
        "# *J\n",
        "# **A\n",
        "# ***V\n",
        "# ****A\n",
        "s=input()\n",
        "for i in range(len(s)):\n",
        "  print(\"*\" *(i+1) + s[i])"
      ],
      "metadata": {
        "colab": {
          "base_uri": "https://localhost:8080/"
        },
        "id": "CCKQyx956YiX",
        "outputId": "e16fc155-cb4d-472c-a6cb-6aac17fdc5c3"
      },
      "execution_count": null,
      "outputs": [
        {
          "output_type": "stream",
          "name": "stdout",
          "text": [
            "JAVA\n",
            "*J\n",
            "**A\n",
            "***V\n",
            "****A\n"
          ]
        }
      ]
    }
  ]
}